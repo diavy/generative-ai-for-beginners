{
 "cells": [
  {
   "cell_type": "code",
   "execution_count": 8,
   "metadata": {},
   "outputs": [],
   "source": [
    "import os\n",
    "from openai import AzureOpenAI\n",
    "\n",
    "from dotenv import load_dotenv\n",
    "import os\n",
    "\n",
    "# Load environment variables from .env file\n",
    "load_dotenv()\n",
    "\n",
    "API_VERSION = os.getenv(\"API_VERSION\",\"\").strip()\n",
    "assert API_VERSION, \"ERROR: Azure OpenAI VERSION is missing\"\n",
    "\n",
    "API_KEY = os.getenv(\"AZURE_OPENAI_API_KEY\",\"\").strip()\n",
    "assert API_KEY, \"ERROR: Azure OpenAI Key is missing\"\n",
    "\n",
    "RESOURCE_ENDPOINT = os.getenv(\"OPENAI_API_BASE\",\"\").strip()\n",
    "assert RESOURCE_ENDPOINT, \"ERROR: Azure OpenAI Endpoint is missing\"\n",
    "assert \"openai.azure.com\" in RESOURCE_ENDPOINT.lower(), \"ERROR: Azure OpenAI Endpoint should be in the form: \\n\\n\\t<your unique endpoint identifier>.openai.azure.com\"\n",
    "\n",
    "client = AzureOpenAI(api_version=API_VERSION,\n",
    "api_key=API_KEY,\n",
    "azure_endpoint=RESOURCE_ENDPOINT)\n",
    "\n",
    "deployment = \"gpt-4.1\" # replace with your deployment name"
   ]
  },
  {
   "cell_type": "code",
   "execution_count": 9,
   "metadata": {},
   "outputs": [
    {
     "name": "stdout",
     "output_type": "stream",
     "text": [
      "I'm happy to help you think this through. Since foot pain has a wide range of possible causes, I'll need a bit more information to offer relevant possibilities. Here are some questions that can narrow it down:\n",
      "\n",
      "1. **Location:** Where on your foot is the pain (heel, arch, toes, top, bottom, side)?\n",
      "2. **Onset:** When did the pain start? Was there an injury?\n",
      "3. **Nature:** How would you describe the pain (sharp, dull, burning, throbbing)?\n",
      "4. **Aggravating factors:** Does anything make it worse or better (walking, rest, specific shoes)?\n",
      "5. **Associated symptoms:** Any swelling, redness, bruising, numbness, tingling, wounds, or fever?\n",
      "6. **Medical history:** Any history of diabetes, vascular disease, neuropathy, or recent surgeries?\n",
      "\n",
      "**Some common causes of foot pain include:**\n",
      "- Plantar fasciitis (heel/arch pain, worse in morning)\n",
      "- Achilles tendinitis (back of heel)\n",
      "- Stress fracture (localized pain, worsens with activity)\n",
      "- Gout (sudden intense pain, often at the big toe)\n",
      "- Peripheral neuropathy\n",
      "- Morton’s neuroma (numbness/burning between toes)\n",
      "- Toe deformities (bunions, hammertoes)\n",
      "- Arthritis\n",
      "- Infections or ulcers (especially in immunocompromised or diabetic patients)\n",
      "\n",
      "**Red flags that need prompt evaluation:**\n",
      "- Sudden, severe pain with inability to bear weight\n",
      "- Signs of infection (redness, warmth, pus, fever)\n",
      "- Numbness, weakness, or loss of function\n",
      "- Open wounds, especially in diabetic patients\n",
      "\n",
      "**What to do next?**\n",
      "- If you suspect a fracture, infection, severe injury, or if you have concerning medical history (diabetes, vascular disease), seek medical attention promptly.\n",
      "- For mild pain without alarming features, conservative measures (rest, ice, elevation, over-the-counter pain relief) and proper footwear may help, but persistent or worsening pain still warrants an evaluation.\n",
      "\n",
      "If you share a few more details, I can tailor my answer more specifically to your case.\n"
     ]
    }
   ],
   "source": [
    "# Create your first prompt\n",
    "text_prompt = \" My foot hurts, what can be wrong?\"\n",
    "\n",
    "response = client.chat.completions.create(model=deployment,\n",
    "messages = [\n",
    "    {\"role\":\"system\", \"content\":\"I'm a doctor, specialist on surgery\"},\n",
    "    {\"role\":\"user\",\"content\":text_prompt},])\n",
    "\n",
    "\n",
    "print(response.choices[0].message.content)"
   ]
  }
 ],
 "metadata": {
  "kernelspec": {
   "display_name": "Python 3",
   "language": "python",
   "name": "python3"
  },
  "language_info": {
   "codemirror_mode": {
    "name": "ipython",
    "version": 3
   },
   "file_extension": ".py",
   "mimetype": "text/x-python",
   "name": "python",
   "nbconvert_exporter": "python",
   "pygments_lexer": "ipython3",
   "version": "3.10.13"
  },
  "orig_nbformat": 4
 },
 "nbformat": 4,
 "nbformat_minor": 2
}
